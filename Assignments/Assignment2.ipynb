{
 "cells": [
  {
   "cell_type": "markdown",
   "metadata": {},
   "source": [
    "# Assignment 2\n",
    "\n",
    "* Due:  Feb 10, 9:30am \n",
    "* Note: For this assignment create in your your `mp248` course repository directory somewhere the directory `Assignment_2`. Copy this assignment notebook into that folder. Do not change the name, and only have one copy. Commit/push early and often, the deadline will be strictly enhanced for this assignment. \n"
   ]
  },
  {
   "cell_type": "markdown",
   "metadata": {},
   "source": [
    "\n",
    "\n"
   ]
  },
  {
   "cell_type": "markdown",
   "metadata": {},
   "source": [
    "## 1 Text analysis with the shell\n",
    "\n",
    "Write an executable shell script called called `shake_analysis.sh` that does the following:\n",
    "\n",
    "1. Download the textfile from the following url: `http://www.textfiles.com/etext/AUTHORS/SHAKESPEARE/shakespeare-midsummer-16.txt` containing _SHAKESPEARE: A Midsummer Night's Dream_. \n",
    "2. Analyse the file and write out one answer per line to the following questions:\n",
    "    * How many lines contain the word _Egeus_? \n",
    "    * How many lines contain the word _Lysander_ and the word _love_?\n",
    "    * How many words are in the lines that contain the words _Lysander_ and the word _love_?\n",
    "    * How large is the file `shakespeare-midsummer-16.txt` in bytes? \n",
    "    * What is the 6th word in the line that contains both the words _passion_ and _dear_?\n",
    "    * How many characters does that word have?\n",
    "\n",
    "In order to solve this problem you will have to use the man page to look-up the required command-line options that make the commands behave the way you want.\n",
    "\n",
    "Finally, the script should create a file `midsummer_dad.txt` in which all instances of _EGEUS_ and _Egeus_ are replaced with _dad_, and then report the number of times 'dad' appears in `midsummer_dad.txt`.\n",
    "\n",
    "Add the script `shake_analysis.sh` and the file `midsummer_dad.txt` to the `Assignment_1` folder."
   ]
  },
  {
   "cell_type": "markdown",
   "metadata": {},
   "source": [
    "## 2. Random walk\n",
    "In this problem you will program a random walk and explore its properties.\n",
    "A two-dimensional random walk is the result of making random steps in both x- and y-directions. \n",
    "\n",
    "Tip: Start the program development for very small parameters of number of steps and walks and check your results every step. Built you program out of small elements, one expression and one line at a time, each of which you check. This will save you time later  when you otherwise have a hard time finding bugs.\n",
    "\n",
    "### 2.1 \n",
    "\n",
    "Generate  $n=10000$ random steps in the $(x,y)$ plane and store them in arrays. Start the random walk at $(x_0,y_0) = (0,0)$. Each of the $n$ steps advance by $\\Delta x$ and $\\Delta y$ which each are randomly chosen to be -0.5 or +0.5. Make a plot of the random walk using square markers where the colour of each marker is decided by the step number that generated it.\n"
   ]
  },
  {
   "cell_type": "markdown",
   "metadata": {},
   "source": [
    "### 2.2 \n",
    "\n",
    "Make $n_\\mathrm{walk} = 1000$  walks of $n=10000$ steps.  \n",
    "* For each walk, save an array with the Euclidean distance between the origin and each of the $n$ positions.\n",
    "* After you have performed all of the random walks, plot a histogram of the maximum distance and final distance of the walks on the same diagram, using the `alpha` option to make both histograms semi-transparent so they both can be seen.\n",
    "* Create a line plot of the distance vs. step number for every $100^\\mathrm{th}$ random-walk combined. Each walk should be its own line."
   ]
  },
  {
   "cell_type": "markdown",
   "metadata": {},
   "source": [
    "### 2.3\n",
    "Explore the maximum distance the random walk gets away from the origin as a function of the number of steps taken. Make $n = 2^p$ steps for $p \\in [4, 5, \\dots ,13]$, and each time make $n_\\mathrm{walk} = 1000$  walks to establish good statistics. For each of the 10 cases (one for each $p$) determine the distance $r_\\mathrm{max-hist}$ at which the maximum of the histogram of the maximum distance of the $n_\\mathrm{walk}$ walks for this case with $n$ steps is located. Then plot $r_\\mathrm{max-hist}$ vs. $log_\\mathrm{10} n$."
   ]
  }
 ],
 "metadata": {
  "kernelspec": {
   "display_name": "Python 3",
   "language": "python",
   "name": "python3"
  },
  "language_info": {
   "codemirror_mode": {
    "name": "ipython",
    "version": 3
   },
   "file_extension": ".py",
   "mimetype": "text/x-python",
   "name": "python",
   "nbconvert_exporter": "python",
   "pygments_lexer": "ipython3",
   "version": "3.6.9"
  }
 },
 "nbformat": 4,
 "nbformat_minor": 4
}
