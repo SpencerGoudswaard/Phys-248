{
 "cells": [
  {
   "cell_type": "markdown",
   "metadata": {},
   "source": [
    "# Assignment 1\n",
    "\n",
    "Due Jan 23, 9:30am, commited to your mp248 repo on the Abacus GitLab server. \n",
    "\n"
   ]
  },
  {
   "cell_type": "markdown",
   "metadata": {},
   "source": [
    "## Problem 1.1\n",
    "Write a program that adds all integer number $i \\in [0,10000]$ excluding those that can be divided by $7$ or $5$. Solve this problem with a `for` loop and then without a loop, but instead using vector operations."
   ]
  },
  {
   "cell_type": "code",
   "execution_count": 9,
   "metadata": {},
   "outputs": [
    {
     "name": "stdout",
     "output_type": "stream",
     "text": [
      "Populating the interactive namespace from numpy and matplotlib\n",
      "34284283\n"
     ]
    }
   ],
   "source": [
    "%pylab ipympl\n",
    "# with loop\n",
    "answer = 0;\n",
    "numbers = arange(0,10001)\n",
    "for number in numbers:\n",
    "    if number % 5 != 0 and number % 7 != 0:\n",
    "        answer += number;\n",
    "print(answer);"
   ]
  },
  {
   "cell_type": "code",
   "execution_count": 10,
   "metadata": {},
   "outputs": [
    {
     "name": "stdout",
     "output_type": "stream",
     "text": [
      "34284283\n"
     ]
    }
   ],
   "source": [
    "# without loop\n",
    "numbers = arange(0,10001)\n",
    "terms = [0, 1, 1, 1, 1]\n",
    "multiples = resize(terms, 10001)\n",
    "numbers = numbers*multiples\n",
    "terms = [0, 1, 1, 1, 1, 1, 1]\n",
    "multiples = resize(terms, 10001)\n",
    "numbers = numbers*multiples\n",
    "answer = sum(numbers)\n",
    "print(answer)"
   ]
  },
  {
   "cell_type": "markdown",
   "metadata": {},
   "source": [
    "## Problem 1.2\n",
    "Formula for converting temperature measured in Celsius degrees to the corresponding value in Fahrenheit degrees:\n",
    "$$\n",
    "F = \\frac{9}{5}C + 32\n",
    "$$\n",
    "where $F$ and $C$ are the temperature in Fahrenheit and Celsius.\n",
    "\n",
    "1. Write a code cell with a variable C to be set at the top, which returns F upon execution in a formatted print statement. Make up a reasonable answer sentence for the formatted print statement.\n",
    "2. Create a table with table header with the columns Celsius and Fahrenheit for 10 temperature values in Celsius from -20 to 120 in steps of 20. "
   ]
  },
  {
   "cell_type": "code",
   "execution_count": 11,
   "metadata": {},
   "outputs": [
    {
     "name": "stdout",
     "output_type": "stream",
     "text": [
      "20.00 Degrees Celsius is equivalent to 68.00 Degrees Fahrenheit\n"
     ]
    }
   ],
   "source": [
    "#1\n",
    "C = 20;\n",
    "F = (9/5)*C + 32\n",
    "print(\"{C:.2f} Degrees Celsius is equivalent to {F:.2f} Degrees Fahrenheit\".format(F = F, C = C))"
   ]
  },
  {
   "cell_type": "code",
   "execution_count": 73,
   "metadata": {},
   "outputs": [
    {
     "data": {
      "text/html": [
       "<iframe\n",
       "    scrolling=\"no\"\n",
       "    width=\"100%\"\n",
       "    height=\"545px\"\n",
       "    src=\"iframe_figures/figure_6.html\"\n",
       "    frameborder=\"0\"\n",
       "    allowfullscreen\n",
       "></iframe>\n"
      ]
     },
     "metadata": {},
     "output_type": "display_data"
    }
   ],
   "source": [
    "#2 \n",
    "import plotly.graph_objects as pl\n",
    "C = arange(-20,121,20)\n",
    "F = (9/5)*C + 32\n",
    "C = list(C)\n",
    "F = list(F)\n",
    "CtoF = pl.Table(header = dict(values = ['Celsius', 'Fahrenheit']), cells = dict(values=[C,F]), visible = True)\n",
    "fig = pl.Figure(data = [CtoF])\n",
    "fig.show(\"iframe\")"
   ]
  },
  {
   "cell_type": "markdown",
   "metadata": {},
   "source": [
    "## Problem 2.1\n",
    "### 2.1.1\n",
    "The [Gaussian function](https://en.wikipedia.org/wiki/Gaussian_function) is given by \n",
    "$$\n",
    "f(x) = a e^{-\\frac{(x-b)^2}{2c^2}}\n",
    "$$\n",
    "\n",
    "#### 2.1.1.1 \n",
    "Write a code cell that calculates $f(x)$ represented by the variable `fx1` for the default parameter values `a=c=1` and `b=0` for $x \\in [-3,5]$. Use an array for x that divides the range into 50 equal intervals. \n",
    "\n",
    "#### 2.1.1.2 \n",
    "Use your code cell to create the following additional arrays:\n",
    "* `fv2`: default parameters but $a=0.75$\n",
    "* `fv3`: default parameters but $b=1.25$\n",
    "* `fv4`: default parameters but $c=1.5$\n",
    "\n",
    "Provide all elements required for a line plots, such as a legend for each line and axis labels. Use a different line style for each line. Briefly describe the meaning of each parameter.\n"
   ]
  },
  {
   "cell_type": "code",
   "execution_count": 200,
   "metadata": {},
   "outputs": [
    {
     "name": "stdout",
     "output_type": "stream",
     "text": [
      "Populating the interactive namespace from numpy and matplotlib\n"
     ]
    }
   ],
   "source": [
    "%pylab ipympl"
   ]
  },
  {
   "cell_type": "code",
   "execution_count": 114,
   "metadata": {},
   "outputs": [],
   "source": [
    "# define x array\n",
    "x = linspace(-3,5,50)"
   ]
  },
  {
   "cell_type": "code",
   "execution_count": 115,
   "metadata": {},
   "outputs": [],
   "source": [
    "# calculate all 4 fvs\n",
    "a = 1; b = 0; c = 1\n",
    "def Gaussian(a, b, c):\n",
    "    fv = a*exp(-(x-b)**2/(2*c**2));\n",
    "    return fv\n",
    "fv1 = Gaussian(a,b,c)\n",
    "a = 0.75\n",
    "fv2 = Gaussian(a,b,c)\n",
    "b = 1.25\n",
    "fv3 = Gaussian(a,b,c)\n",
    "c = 1.5\n",
    "fv4 = Gaussian(a,b,c)"
   ]
  },
  {
   "cell_type": "code",
   "execution_count": 135,
   "metadata": {},
   "outputs": [
    {
     "data": {
      "application/vnd.jupyter.widget-view+json": {
       "model_id": "",
       "version_major": 2,
       "version_minor": 0
      },
      "text/plain": [
       "Canvas(toolbar=Toolbar(toolitems=[('Home', 'Reset original view', 'home', 'home'), ('Back', 'Back to previous …"
      ]
     },
     "metadata": {},
     "output_type": "display_data"
    },
    {
     "data": {
      "text/plain": [
       "Text(0.5, 1.0, 'Guassian Functions')"
      ]
     },
     "execution_count": 135,
     "metadata": {},
     "output_type": "execute_result"
    }
   ],
   "source": [
    "# make plot\n",
    "close(1); figure(1)\n",
    "plot(x, fv1, '-', label = 'fv1 a=1 b=0 c=1')\n",
    "plot(x, fv2, '--', label = 'fv2 a=.75 b=0 c=1')\n",
    "plot(x, fv3, '-.', label = 'fv3 a=.75 b=1.25 c=1')\n",
    "plot(x, fv4, ':', label = 'fv4 a=.75 b=1.25 c=1.5')\n",
    "legend(); xlabel(\"x\"); ylabel(\"f(x)\"); title(\"Guassian Functions\")"
   ]
  },
  {
   "cell_type": "markdown",
   "metadata": {},
   "source": [
    "a is the amplitude of the Guassian.\n",
    "\n",
    "b is the centre of the Guassian AKA the x value of the peak.\n",
    "\n",
    "c is horizontal stretch of the function."
   ]
  },
  {
   "cell_type": "markdown",
   "metadata": {},
   "source": [
    "#### 2.1.1.3\n",
    "Find $x$ values `xmax1` and `xmax3` for which the arrays `fv1` and `fv3` have a maximum."
   ]
  },
  {
   "cell_type": "code",
   "execution_count": 168,
   "metadata": {},
   "outputs": [
    {
     "name": "stdout",
     "output_type": "stream",
     "text": [
      "-0.06122448979591866 1.2448979591836729\n"
     ]
    }
   ],
   "source": [
    "fv1find = max(fv1)\n",
    "fv3find = max(fv3)\n",
    "xmax1 = x[where(fv1 == fv1find)[0][0]]\n",
    "xmax3 = x[where(fv3 == fv3find)[0][0]]\n",
    "print(xmax1, xmax3)"
   ]
  },
  {
   "cell_type": "markdown",
   "metadata": {},
   "source": [
    "#### 2.1.1.4\n",
    "Find the $x$ values for which the values of array `fv3` are larger than `fv2` and smaller than `fv1`."
   ]
  },
  {
   "cell_type": "code",
   "execution_count": 201,
   "metadata": {},
   "outputs": [
    {
     "name": "stdout",
     "output_type": "stream",
     "text": [
      "[0.75510204]\n"
     ]
    }
   ],
   "source": [
    "ind1 = where(fv3 < fv1)[0]\n",
    "ind2 = where(fv3 > fv2)[0]\n",
    "ind1 = set(ind1); ind2 = set(ind2)\n",
    "ind = list(ind1.intersection(ind2))\n",
    "fv3mid = x[ind]\n",
    "print(fv3mid)"
   ]
  },
  {
   "cell_type": "markdown",
   "metadata": {},
   "source": [
    "### 2.1.2\n",
    "#### 2.1.2.1\n",
    "Make a surface plot of the function\n",
    "$$ z(x,y) = x^4 \\sin y$$\n",
    "Use a $(x,y)$ grid of $40\\times40$ equal rectangles with $x \\in [1.5,3.7]$ and $y \\in [-3.2,4.8]$."
   ]
  },
  {
   "cell_type": "code",
   "execution_count": 221,
   "metadata": {},
   "outputs": [],
   "source": [
    "# set up x-y grid and calculate z\n",
    "X = linspace(1.5, 3.7, 40); Y = linspace(-3.2, 4.8, 40)\n",
    "xv,yv = meshgrid(x,y)\n",
    "Z = xv**4*sin(yv)"
   ]
  },
  {
   "cell_type": "code",
   "execution_count": 222,
   "metadata": {},
   "outputs": [
    {
     "data": {
      "application/vnd.jupyter.widget-view+json": {
       "model_id": "b4b6a7036ad34cdea5b34893d3c3c3b4",
       "version_major": 2,
       "version_minor": 0
      },
      "text/plain": [
       "Canvas(toolbar=Toolbar(toolitems=[('Home', 'Reset original view', 'home', 'home'), ('Back', 'Back to previous …"
      ]
     },
     "metadata": {},
     "output_type": "display_data"
    }
   ],
   "source": [
    "# make plot\n",
    "from mpl_toolkits.mplot3d import Axes3D\n",
    "import matplotlib.pyplot as plt\n",
    "from matplotlib import cm\n",
    "close(2);fig = plt.figure(2)\n",
    "ax = Axes3D(fig)\n",
    "ax.plot_surface(xv,yv,Z, rstride=1, cstride=1, cmap=cm.viridis)\n",
    "plt.show()"
   ]
  },
  {
   "cell_type": "markdown",
   "metadata": {},
   "source": [
    "#### 2.1.2.2\n",
    "Create a plot of the two-dimensional Gaussian function\n",
    "$$\n",
    "h(x,y) = \\exp{-(x^2 + y^2)}\n",
    "$$\n",
    "for $x \\in [-1,1.2]$ and $y \\in [-1,1.5]$ divided into a grid of $50\\times50$ equal rectangles. \n",
    "Do both a \n",
    "* 3D surface plot, and a\n",
    "* contour plot with labels."
   ]
  },
  {
   "cell_type": "code",
   "execution_count": 223,
   "metadata": {},
   "outputs": [],
   "source": [
    "# setup x-y grid and calculte hxy \n",
    "x = linspace(-1, 1.2, 50); y = linspace(-1, 1.5, 50)\n",
    "xh,yh = meshgrid(x,y)\n",
    "h = exp(-(xv**2+yv**2))"
   ]
  },
  {
   "cell_type": "code",
   "execution_count": 225,
   "metadata": {},
   "outputs": [
    {
     "data": {
      "application/vnd.jupyter.widget-view+json": {
       "model_id": "28f2a8e1bd404c4c979e0afea6138f2c",
       "version_major": 2,
       "version_minor": 0
      },
      "text/plain": [
       "Canvas(toolbar=Toolbar(toolitems=[('Home', 'Reset original view', 'home', 'home'), ('Back', 'Back to previous …"
      ]
     },
     "metadata": {},
     "output_type": "display_data"
    }
   ],
   "source": [
    "# make plot\n",
    "from mpl_toolkits.mplot3d import Axes3D\n",
    "import matplotlib.pyplot as plt\n",
    "from matplotlib import cm\n",
    "close(3);fig = plt.figure(3)\n",
    "ax = Axes3D(fig)\n",
    "ax.plot_surface(xh,yh,h, rstride=1, cstride=1, cmap=cm.summer)\n",
    "plt.show()"
   ]
  },
  {
   "cell_type": "code",
   "execution_count": 231,
   "metadata": {},
   "outputs": [
    {
     "data": {
      "application/vnd.jupyter.widget-view+json": {
       "model_id": "8c556877df8640c390a0cf6aa6237be7",
       "version_major": 2,
       "version_minor": 0
      },
      "text/plain": [
       "Canvas(toolbar=Toolbar(toolitems=[('Home', 'Reset original view', 'home', 'home'), ('Back', 'Back to previous …"
      ]
     },
     "metadata": {},
     "output_type": "display_data"
    },
    {
     "data": {
      "text/plain": [
       "<a list of 8 text.Text objects>"
      ]
     },
     "execution_count": 231,
     "metadata": {},
     "output_type": "execute_result"
    }
   ],
   "source": [
    "close(4);fig = plt.figure(4)\n",
    "CS = plt.contour(xh, yh, h,cmap='winter')\n",
    "plt.clabel(CS, inline=1, fontsize=8)"
   ]
  },
  {
   "cell_type": "code",
   "execution_count": null,
   "metadata": {},
   "outputs": [],
   "source": []
  }
 ],
 "metadata": {
  "kernelspec": {
   "display_name": "Python 3",
   "language": "python",
   "name": "python3"
  },
  "language_info": {
   "codemirror_mode": {
    "name": "ipython",
    "version": 3
   },
   "file_extension": ".py",
   "mimetype": "text/x-python",
   "name": "python",
   "nbconvert_exporter": "python",
   "pygments_lexer": "ipython3",
   "version": "3.6.9"
  }
 },
 "nbformat": 4,
 "nbformat_minor": 4
}
