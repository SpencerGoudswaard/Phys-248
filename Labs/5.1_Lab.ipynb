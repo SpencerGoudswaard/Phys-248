{
 "cells": [
  {
   "cell_type": "markdown",
   "metadata": {},
   "source": [
    "## Lab 5.1\n",
    "\n",
    "### Activity 1 \n",
    "Name: `sun_mass_burned`\n",
    "\n",
    "Complete  activity 1 before the end of the lab by entering the answer into the CourseSpaces quiz.\n",
    "\n",
    "Use the astropy units packages to solve the following problem step by step. Take all constants not given in this problem from the astropy constants package.\n",
    "\n",
    "1. The mass of one $\\mathrm{^4He}$ is $4.002602\\mathrm{u}$ where u is the atomic mass. Using the mass of the proton  calculte the mass difference between four protons and one $\\mathrm{^4He}$.\n",
    "2. Calculate the energy that corresponds to this mass difference using the formular $E = mc^2$. Express in erg.\n",
    "3. The sun is 4.603 billion years old. It shines with the luminosity one $L_\\odot$. Luminosity is energy per unit time. Calculate the amount of energy that the sun has been emitting since birth by assuming that the luminosity of the sun has been exactly the same compared to what it is today. Express in erg.\n",
    "4. Considering that four protons need to undergo nuclear reactions into $\\mathrm{^4He}$ in order to release the energy calculated in (2), how much total mass of protons has to undergo reactions to generate the total amount of energy the sun has generated so far under the assumption made in (3)?\n",
    "5. What fraction is that of the mass of today's sun? Round to three decimals and enter the answer into the CourseSpaces question `sun_mass_burned`.\n",
    "\n",
    "\n",
    "\n",
    "**Solution:**"
   ]
  },
  {
   "cell_type": "code",
   "execution_count": 2,
   "metadata": {},
   "outputs": [],
   "source": [
    "from astropy import constants as ap\n",
    "from astropy import units as u"
   ]
  },
  {
   "cell_type": "code",
   "execution_count": 3,
   "metadata": {},
   "outputs": [
    {
     "name": "stdout",
     "output_type": "stream",
     "text": [
      "4.401070941792045e-29 kg\n",
      "3.955485300923724e-05 erg\n",
      "5.560538743584e+50 erg\n",
      "9.405347925347132e+28 kg\n",
      "0.047\n"
     ]
    }
   ],
   "source": [
    "mass = 4 * ap.m_p - 4.002602*ap.u\n",
    "print(mass)\n",
    "energy = mass * (ap.c**2)\n",
    "energy = energy.to('erg')\n",
    "print(energy)\n",
    "lumin = ap.L_sun\n",
    "sunE = 4.603 * (10**9) * u.yr * lumin\n",
    "sunE = sunE.to('erg')\n",
    "print(sunE)\n",
    "mass_burned = 4*sunE/energy * ap.m_p\n",
    "print(mass_burned)\n",
    "fraction = mass_burned/ap.M_sun\n",
    "print('{frac:.3f}'.format(frac = fraction))\n"
   ]
  },
  {
   "cell_type": "markdown",
   "metadata": {},
   "source": [
    "\n",
    "## Activity 2\n",
    "Name: `amount_sum`\n",
    "\n",
    "Complete this activity by Thursday, 9:30am by entering the final answer into the corresponding Coursespaces assignment.\n",
    "\n",
    "The growth of money due to compounding interest is\n",
    "$$\n",
    "A = A_0 \\left( 1+ \\frac{p}{360\\cdot 100}\\right)^n\n",
    "$$\n",
    "where $n$ is the number of days the money is earning interest, $p$ is the percent annual interest rate and $A_0$ is the initial amount of money.\n",
    "\n",
    "1. Write a function called `amount` that takes $n$, $p$ and $A_0$ as input and returns $A$. Test the function.\n",
    "2. Add a function for $p(A,A_0,n)$ called `p_inter`. Add both functions to a module file called `interest.py`. Create a module directory called `mypylib` in your `mp248` course repo. Place the required `__init__.py` in that directory. Add your module file `interest.py`. Add the path to `mypylib` dir in your notebook using the `sys` module. Make sure that you can import `mupylib` and use the function like this\n",
    "\n",
    "```Python\n",
    "import mypylib\n",
    "mypylib.amount(A0,p,n)\n",
    "```\n",
    "\n",
    "3. The initial amount is $A_0 = 100$. Use the function to generate a dictionary in which the values of $p$ are the keys and the amount values for all $n$ for a given $p$ can be accessed as `A[p]`. Populate the dictionary with values for $ p \\in [2.5,3.75]$ and $n \\in [400,1300,1700,2300]$.\n",
    "4. Make a plot of the amount vs. time for both cases of $p$.\n",
    "5. Enter the sum of the last elements of `A[2.5]` and `A[3.75]` into quiz question `amount_sum`\n",
    "\n",
    "**Solution:**"
   ]
  },
  {
   "cell_type": "code",
   "execution_count": 2,
   "metadata": {},
   "outputs": [
    {
     "name": "stdout",
     "output_type": "stream",
     "text": [
      "Populating the interactive namespace from numpy and matplotlib\n"
     ]
    }
   ],
   "source": [
    "%pylab ipympl"
   ]
  },
  {
   "cell_type": "code",
   "execution_count": null,
   "metadata": {},
   "outputs": [],
   "source": []
  },
  {
   "cell_type": "code",
   "execution_count": 6,
   "metadata": {},
   "outputs": [
    {
     "ename": "AttributeError",
     "evalue": "module 'mypylib' has no attribute 'amount'",
     "output_type": "error",
     "traceback": [
      "\u001b[0;31m---------------------------------------------------------------------------\u001b[0m",
      "\u001b[0;31mAttributeError\u001b[0m                            Traceback (most recent call last)",
      "\u001b[0;32m<ipython-input-6-5fea7716af86>\u001b[0m in \u001b[0;36m<module>\u001b[0;34m\u001b[0m\n\u001b[1;32m      3\u001b[0m \u001b[0mn\u001b[0m \u001b[0;34m=\u001b[0m \u001b[0;36m365\u001b[0m\u001b[0;34m\u001b[0m\u001b[0;34m\u001b[0m\u001b[0m\n\u001b[1;32m      4\u001b[0m \u001b[0;32mimport\u001b[0m \u001b[0mmypylib\u001b[0m \u001b[0;32mas\u001b[0m \u001b[0mmpl\u001b[0m\u001b[0;34m\u001b[0m\u001b[0;34m\u001b[0m\u001b[0m\n\u001b[0;32m----> 5\u001b[0;31m \u001b[0mmpl\u001b[0m\u001b[0;34m.\u001b[0m\u001b[0mamount\u001b[0m\u001b[0;34m(\u001b[0m\u001b[0mA0\u001b[0m\u001b[0;34m,\u001b[0m\u001b[0mp\u001b[0m\u001b[0;34m,\u001b[0m\u001b[0mn\u001b[0m\u001b[0;34m)\u001b[0m\u001b[0;34m\u001b[0m\u001b[0;34m\u001b[0m\u001b[0m\n\u001b[0m",
      "\u001b[0;31mAttributeError\u001b[0m: module 'mypylib' has no attribute 'amount'"
     ]
    }
   ],
   "source": [
    "A0 = 10000\n",
    "p = 5.5\n",
    "n = 365\n",
    "import mypylib as mpl\n",
    "mpl.amount(A0,p,n)"
   ]
  },
  {
   "cell_type": "code",
   "execution_count": null,
   "metadata": {},
   "outputs": [],
   "source": []
  }
 ],
 "metadata": {
  "kernelspec": {
   "display_name": "Python 3",
   "language": "python",
   "name": "python3"
  },
  "language_info": {
   "codemirror_mode": {
    "name": "ipython",
    "version": 3
   },
   "file_extension": ".py",
   "mimetype": "text/x-python",
   "name": "python",
   "nbconvert_exporter": "python",
   "pygments_lexer": "ipython3",
   "version": "3.6.9"
  }
 },
 "nbformat": 4,
 "nbformat_minor": 4
}
