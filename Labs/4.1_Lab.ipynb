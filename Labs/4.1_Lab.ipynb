{
 "cells": [
  {
   "cell_type": "markdown",
   "metadata": {},
   "source": [
    "## Lab 4.1\n",
    "\n",
    "### Activity 1 \n",
    "Name: `int-midpoint`\n",
    "\n",
    "Complete  Activity 1 before the end of the lab by entering the answer into the CourseSpaces quiz.\n",
    "\n",
    "1. Make a plot of the function $$y = \\frac{x^2}{exp(-x)}\n",
    "$$ for $x\\in[-1,1]$. \n",
    "2. Add a bar plot with 20 rectangles according to the midpoint rule. \n",
    "3. Calculate the area under the curve. Don't use a loop. Print the result in a formatted print statement, with 4 decimals. Enter the answer into the CourseSpaces question `int-midpoint`.\n",
    "\n",
    "\n",
    "\n",
    "**Solution:**"
   ]
  },
  {
   "cell_type": "code",
   "execution_count": 169,
   "metadata": {},
   "outputs": [
    {
     "name": "stdout",
     "output_type": "stream",
     "text": [
      "Populating the interactive namespace from numpy and matplotlib\n"
     ]
    },
    {
     "data": {
      "application/vnd.jupyter.widget-view+json": {
       "model_id": "45aa205471644b18834d9adf9e21c671",
       "version_major": 2,
       "version_minor": 0
      },
      "text/plain": [
       "Canvas(toolbar=Toolbar(toolitems=[('Home', 'Reset original view', 'home', 'home'), ('Back', 'Back to previous …"
      ]
     },
     "metadata": {},
     "output_type": "display_data"
    },
    {
     "data": {
      "text/plain": [
       "<BarContainer object of 19 artists>"
      ]
     },
     "execution_count": 169,
     "metadata": {},
     "output_type": "execute_result"
    }
   ],
   "source": [
    "%pylab ipympl\n",
    "n = 20\n",
    "x = linspace(-1,1,n)\n",
    "y = x**2/exp(-x)\n",
    "close(1); figure(1)\n",
    "plot(x,y, '-o', color = \"red\")\n",
    "xlabel('x'); ylabel('$x^2/e^{-x}$'); title(\"f(x) = $x^2/e^{-x}$\")\n",
    "#delta_x = 2/(n-1)\n",
    "delta_x = diff(x)[0]\n",
    "xb = x[:-1] + 0.5*delta_x\n",
    "yb = xb**2/exp(-xb)\n",
    "bar(xb,yb,delta_x)"
   ]
  },
  {
   "cell_type": "code",
   "execution_count": 170,
   "metadata": {},
   "outputs": [
    {
     "name": "stdout",
     "output_type": "stream",
     "text": [
      "The area under f(x) = x^2/exp(-x) from -1 to 1 is: 0.8750\n"
     ]
    }
   ],
   "source": [
    "ans = sum(yb*delta_x)\n",
    "ans_str = \"The area under f(x) = x^2/exp(-x) from -1 to 1 is: {ans:.4f}\".format(ans = ans)\n",
    "print(ans_str)"
   ]
  },
  {
   "cell_type": "code",
   "execution_count": null,
   "metadata": {},
   "outputs": [],
   "source": []
  },
  {
   "cell_type": "markdown",
   "metadata": {},
   "source": [
    "\n",
    "## Activity 2\n",
    "Name: `pi-riemann-sum`\n",
    "\n",
    "\n",
    "Complete this activity by Thursday, 9:30am by entering the final answer into the corresponding CourseSpaces assignment.\n",
    "\n",
    "\n",
    "Numerically integrate the area disk with radius $r=1$ by approximating it with vertical rectangles. The side length of each rectangle is $\\Delta x$, while $\\Delta y$ follows from the formula for the circumference. Calculate only a quarter.\n",
    "\n",
    "* Make a plot that shows the quarter circle (right top quadrant) and rectangles approximating the area of the quarter circle. Use the `bar` plot for the rectangles. Make sure that the left edge of the left-most bar is at $x = 0$ and the right edge of the right-most bar is at $x=1.0$. Make sure that the height of each bar is the y-value of the circle at the x value centered between the horizontal x edges of the rectangle (midpoint rule).  \n",
    "* Sketch the algorithm (this can be a Markdown bullet list describing the 2-3 steps), write the code and generate results. You have to be very careful with choosing the edges of your rectangles. You do not need a for loop for this program!!!\n",
    "* Test the program carefully. What can you do to convince yourself that your algorithm is working correctly?\n",
    "* Test convergence, i.e. does the answer converge to the correct solution with a finer grid? Place the calculation of the Riemann sum into a loop to generate five solutions using $n\\in [10, 30, 50, 70, 90]$ rectangles. What is the smallest $n$ for which the difference of four times the area of the quarter disk minus `numpy.pi` is less than $0.0009$? Enter the answer into Lab question `pi-riemann-sum`.\n",
    "\n",
    "**Solution:**"
   ]
  },
  {
   "cell_type": "code",
   "execution_count": 217,
   "metadata": {},
   "outputs": [
    {
     "data": {
      "application/vnd.jupyter.widget-view+json": {
       "model_id": "ea0b90b42923427cac792fd67e5c0041",
       "version_major": 2,
       "version_minor": 0
      },
      "text/plain": [
       "Canvas(toolbar=Toolbar(toolitems=[('Home', 'Reset original view', 'home', 'home'), ('Back', 'Back to previous …"
      ]
     },
     "metadata": {},
     "output_type": "display_data"
    },
    {
     "data": {
      "text/plain": [
       "<BarContainer object of 5 artists>"
      ]
     },
     "execution_count": 217,
     "metadata": {},
     "output_type": "execute_result"
    }
   ],
   "source": [
    "n = 5\n",
    "x = linspace(0,1,10*n)\n",
    "xbar = linspace(0,1,n+1)\n",
    "y = sqrt(1 - x**2)\n",
    "close(2); figure(2)\n",
    "plot(x, y, \"-r\")\n",
    "xlabel('x'); ylabel('y')\n",
    "delta_x = diff(xbar)[0]\n",
    "xb = xbar[:-1]+0.5*delta_x\n",
    "yb = sqrt(1 - xb**2)\n",
    "bar(xb, yb, delta_x)"
   ]
  },
  {
   "cell_type": "code",
   "execution_count": 224,
   "metadata": {},
   "outputs": [
    {
     "name": "stdout",
     "output_type": "stream",
     "text": [
      "70 0.0005875480672199451\n",
      "90 0.000403106603267922\n"
     ]
    }
   ],
   "source": [
    "convergence = [10,30,50,70,90]\n",
    "for n in convergence:\n",
    "    x = linspace(0,1,n+1)\n",
    "    delta_x = diff(x)[0]\n",
    "    xb = x[:-1]+0.5*delta_x\n",
    "    yb = sqrt(1 - xb**2)\n",
    "    area = sum(yb*delta_x)\n",
    "    test = abs(4*area - numpy.pi)\n",
    "    if (test < 0.0009): print(n, test)"
   ]
  },
  {
   "cell_type": "code",
   "execution_count": 226,
   "metadata": {},
   "outputs": [
    {
     "name": "stdout",
     "output_type": "stream",
     "text": [
      "53.0\n",
      "54.0\n",
      "55.0\n",
      "56.0\n",
      "57.0\n",
      "58.0\n",
      "59.0\n",
      "60.0\n",
      "61.0\n",
      "62.0\n",
      "63.0\n",
      "64.0\n",
      "65.0\n",
      "66.0\n",
      "67.0\n",
      "68.0\n",
      "69.0\n",
      "70.0\n"
     ]
    }
   ],
   "source": [
    "convergence = linspace(50,70,21)\n",
    "for n in convergence:\n",
    "    xbar = linspace(0,1,n+1)\n",
    "    delta_x = diff(xbar)[0]\n",
    "    xb = xbar[:-1]+0.5*delta_x\n",
    "    yb = sqrt(1 - xb**2)\n",
    "    area = sum(yb*delta_x)\n",
    "    test = abs(4*area - numpy.pi)\n",
    "    if (test < 0.0009): print(n)"
   ]
  },
  {
   "cell_type": "code",
   "execution_count": null,
   "metadata": {},
   "outputs": [],
   "source": []
  }
 ],
 "metadata": {
  "kernelspec": {
   "display_name": "Python 3",
   "language": "python",
   "name": "python3"
  },
  "language_info": {
   "codemirror_mode": {
    "name": "ipython",
    "version": 3
   },
   "file_extension": ".py",
   "mimetype": "text/x-python",
   "name": "python",
   "nbconvert_exporter": "python",
   "pygments_lexer": "ipython3",
   "version": "3.6.9"
  }
 },
 "nbformat": 4,
 "nbformat_minor": 4
}
