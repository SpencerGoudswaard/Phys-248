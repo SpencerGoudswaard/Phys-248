{
 "cells": [
  {
   "cell_type": "markdown",
   "metadata": {},
   "source": [
    "## Lab 4.2\n",
    "\n",
    "Before you start copy this notebook into your own `mp248/Labs` folder and then start entering the solution into the copy. That way you can add it there to the next commit of your mp248 repo. \n"
   ]
  },
  {
   "cell_type": "markdown",
   "metadata": {},
   "source": [
    "### Activity 1\n",
    "Name: `deriv-diff1`\n",
    "\n",
    "1. Create a python function `func1` that calculates \n",
    "$$f(x) = sin(x^2)\\frac{x^2}{exp(-\\frac{x}{2})}$$. Make a plot for  $x\\in[-2.5,1]$ using an x array representing 100 intervals.\n",
    "2. Calculate the derivative numerically using this same equidistant array in x with, once with `h = 0.2` and a second time with `h = 0.01`. Make a plot of both derivatives using different line styles and all necessary plot decorations. \n",
    "3. Calculate the sum of the difference of the derivative with `h = 0.01` minus the one with `h = 0.2`, round to two decimals and enter the answer into  question `deriv-diff1`.\n",
    "\n",
    "Complete this activity before the end of the lab by entering the answer into the Coursespaces assignment. Add, commit and push this notebook to your repository.\n",
    "\n",
    "**CourseSpace assignment Lab3.2_A1:**\n",
    "\n",
    "\n",
    "**Solution:**"
   ]
  },
  {
   "cell_type": "code",
   "execution_count": 4,
   "metadata": {},
   "outputs": [
    {
     "name": "stdout",
     "output_type": "stream",
     "text": [
      "Populating the interactive namespace from numpy and matplotlib\n"
     ]
    }
   ],
   "source": [
    "%pylab ipympl"
   ]
  },
  {
   "cell_type": "code",
   "execution_count": 27,
   "metadata": {},
   "outputs": [],
   "source": [
    "def func1(x):\n",
    "    fx = sin(x**2)*(x**2/(exp(-x/2)))\n",
    "    return fx\n",
    "def deriv(x,h):\n",
    "    dfdx = (func1(x + h) - func1(x))/h\n",
    "    return dfdx"
   ]
  },
  {
   "cell_type": "code",
   "execution_count": 35,
   "metadata": {},
   "outputs": [
    {
     "data": {
      "application/vnd.jupyter.widget-view+json": {
       "model_id": "c14cb7ce40184b63be454bbc01377b93",
       "version_major": 2,
       "version_minor": 0
      },
      "text/plain": [
       "Canvas(toolbar=Toolbar(toolitems=[('Home', 'Reset original view', 'home', 'home'), ('Back', 'Back to previous …"
      ]
     },
     "metadata": {},
     "output_type": "display_data"
    },
    {
     "name": "stdout",
     "output_type": "stream",
     "text": [
      "The answer is: -37.88\n"
     ]
    }
   ],
   "source": [
    "n = 100\n",
    "x = linspace(-2.5,1,n+1)\n",
    "y = func1(x)\n",
    "close(1); figure(1)\n",
    "plot(x,y, \"-b\", label = \"f(x) = sin(x**2)*(x**2/exp(-x/2))\")\n",
    "xlabel('x'); ylabel('f(x)')\n",
    "h = 0.2\n",
    "dfdxh2 = deriv(x,h)\n",
    "h = 0.01\n",
    "dfdxh01 = deriv(x,h)\n",
    "plot(x,dfdxh2, \"--r\", label = \"f'(x), h = 0.2\")\n",
    "plot(x,dfdxh01, \"--y\", label = \"f'(x), h = 0.01\")\n",
    "legend()\n",
    "\n",
    "ans = sum(dfdxh01-dfdxh2)\n",
    "print(\"The answer is: {ans:.2f}\".format(ans=ans))"
   ]
  },
  {
   "cell_type": "markdown",
   "metadata": {},
   "source": [
    "### Activity 2\n",
    "Name: `deriv2-diff`,`deriv-roots`\n",
    "\n",
    "Finish by Monday 9:30am. \n",
    "\n",
    "1. Write a function `deriv2` that implements the 3rd-order derivative according to Eqn. 3 in today's class notebook. Calculate the derivative with `deriv2` with the same `x` array and function func1 from Activity 1 and add that derivative with a dot-dashed line to the derivative figure in Activity 1.\n",
    "2. Calculate again the sum of the difference of the derivative with `h = 0.01` with `deriv1` minus this one the one with `h = 0.2` and `deriv2`, round to two decimals and enter the answer into  question `deriv2-diff`. What is your observation regarding the accuracy of the `deriv2` vs. `deriv`.\n",
    "3. Use the `x` arrray and the derivative array calculated in this problem to find the x locations of the three extrema in the function `func1`. One possibility is to find the array index pointing at the location where the sign of the derivative changes. Between the corresponding value pairs is the root. Interpolate linearly between these two points for an accurate determination of the x coordinate of the three extreme. Add the three values, round to two digits and enter into question `deriv-roots`.\n",
    "\n"
   ]
  },
  {
   "cell_type": "code",
   "execution_count": null,
   "metadata": {},
   "outputs": [],
   "source": []
  }
 ],
 "metadata": {
  "kernelspec": {
   "display_name": "Python 3",
   "language": "python",
   "name": "python3"
  },
  "language_info": {
   "codemirror_mode": {
    "name": "ipython",
    "version": 3
   },
   "file_extension": ".py",
   "mimetype": "text/x-python",
   "name": "python",
   "nbconvert_exporter": "python",
   "pygments_lexer": "ipython3",
   "version": "3.6.9"
  }
 },
 "nbformat": 4,
 "nbformat_minor": 4
}
