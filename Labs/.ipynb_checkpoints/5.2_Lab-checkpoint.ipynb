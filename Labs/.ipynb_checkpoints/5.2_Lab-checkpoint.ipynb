{
 "cells": [
  {
   "cell_type": "markdown",
   "metadata": {},
   "source": [
    "## Lab 5.2\n",
    "\n",
    "Before you start copy this notebook into your own `mp248/Labs` folder and then start entering the solution into the copy. That way you can add it there to the next commit of your mp248 repo. "
   ]
  },
  {
   "cell_type": "markdown",
   "metadata": {},
   "source": [
    "### Activity 1\n",
    "Name: `sun-area`\n",
    "\n",
    "Complete this activity before the end of the lab by entering the answer into the Coursespaces assignment. Add, commit and push this notebook to your repository.\n",
    "\n",
    "**CourseSpace assignment Lab5.2_A1:**\n",
    "\n",
    "* Size of Sonoran desert: 260,000 square kilometers\n",
    "* Power of solar radiation per unit area on earth: 1,368 W/m2\n",
    "* In 2017, the average annual electricity consumption for a U.S. residential utility customer was 10,399 kilo-watt hours (kWh).\n",
    "* Estimated efficiency of solar thermal power plant: 20%\n",
    "\n",
    "What fraction of the Sonoran desert needs to be covered with solar thermal power plants to provide the energy consumption of 50 million residential utility customers? How much area is needed? What is the side length of a square in km, rounded to 2 decimals that has this area? Enter into quiz questions `sun-area`.\n",
    "\n",
    "Power, which is energy per unit time has the unit Watt.\n",
    "\n",
    "**Solution:**"
   ]
  },
  {
   "cell_type": "code",
   "execution_count": 1,
   "metadata": {},
   "outputs": [
    {
     "name": "stdout",
     "output_type": "stream",
     "text": [
      "Using matplotlib backend: agg\n",
      "Populating the interactive namespace from numpy and matplotlib\n"
     ]
    }
   ],
   "source": [
    "%pylab"
   ]
  },
  {
   "cell_type": "code",
   "execution_count": null,
   "metadata": {},
   "outputs": [],
   "source": []
  },
  {
   "cell_type": "markdown",
   "metadata": {},
   "source": [
    "### Activity 2\n",
    "Name: `last-name`, `last-V-number`\n",
    "\n",
    "Finish by Monday 9:30am. \n",
    "\n"
   ]
  },
  {
   "cell_type": "markdown",
   "metadata": {},
   "source": [
    "You are given two files. File `Lab_list.csv` contains a list of all students who have correctly answered a quiz. File `no-Lab-on-gitlab.txt` contains the V numbers of students who have not pushed the Lab notebook to the GitLab repo. \n",
    "Write code that reads both files and matches the entries in order to \n",
    "1. Write out a list of student names and emails who have answered the quiz correctly but not pushed their Lab to GitLab. Sort the list by first name. What is the last name of the last person in the list? Enter this name into quiz question `last-name`.\n",
    "2. Write out a list of V numbers of students who have not pushed a lab and also have not answerd the quiz. Sort by V numbers. What is the last V number in that list? Enter into quiz `last-V-number`."
   ]
  },
  {
   "cell_type": "code",
   "execution_count": null,
   "metadata": {},
   "outputs": [],
   "source": []
  }
 ],
 "metadata": {
  "kernelspec": {
   "display_name": "Python 3",
   "language": "python",
   "name": "python3"
  },
  "language_info": {
   "codemirror_mode": {
    "name": "ipython",
    "version": 3
   },
   "file_extension": ".py",
   "mimetype": "text/x-python",
   "name": "python",
   "nbconvert_exporter": "python",
   "pygments_lexer": "ipython3",
   "version": "3.6.9"
  }
 },
 "nbformat": 4,
 "nbformat_minor": 4
}
