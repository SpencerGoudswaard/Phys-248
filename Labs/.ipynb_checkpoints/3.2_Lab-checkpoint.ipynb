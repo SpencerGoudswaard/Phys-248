{
 "cells": [
  {
   "cell_type": "markdown",
   "metadata": {},
   "source": [
    "## Lab 3.2\n",
    "\n",
    "Before you start copy this notebook into your own `mp248/Labs` folder and then start entering the solution into the copy. That way you can add it there to the next commit of your mp248 repo. \n"
   ]
  },
  {
   "cell_type": "markdown",
   "metadata": {},
   "source": [
    "### Activity 1\n",
    "Name: `reason-line25-word5` `kant-moral`\n",
    "\n",
    "You should be in the `mp248/Labs` folder. Each part of this activity is to be done with a shell command. \n",
    "\n",
    "1. Download the _THE METAPHYSICAL ELEMENTS OF ETHICS_ by Immanuel Kant which can be found at this location, `http://www.textfiles.com/etext/AUTHORS/KANT/kant-metaphysical-145.txt` using the terminal command line. \n",
    "2. Find all lines that contain the word `reason` and save them in the file `reason.txt` (this is again one command line on the terminal).\n",
    "3. Create the command that takes the file name `reason.txt` as argument and outputs just the 25th line of that file. Enter the 5th word of that line into the quiz question `reason-line25-word5`\n",
    "4. How many lines are there in the original text `kant-metaphysical-145.txt` that contain the word `moral`. Enter the answer into quiz question `kant-moral`\n",
    "\n",
    "\n",
    "Complete this activity before the end of the lab by entering the answer into the Coursespaces assignment. Add, commit and push this notebook to your repository.\n",
    "\n",
    "**CourseSpace assignment Lab3.2_A1:**\n",
    "\n",
    "\n",
    "**Solution:**"
   ]
  },
  {
   "cell_type": "code",
   "execution_count": null,
   "metadata": {},
   "outputs": [],
   "source": [
    "wget http://www.textfiles.com/etext/AUTHORS/KANT/kant-metaphysical-145.txt"
   ]
  },
  {
   "cell_type": "code",
   "execution_count": null,
   "metadata": {},
   "outputs": [],
   "source": [
    "grep reason kant-metaphysical-145.txt > reason.txt"
   ]
  },
  {
   "cell_type": "code",
   "execution_count": 18,
   "metadata": {},
   "outputs": [
    {
     "name": "stdout",
     "output_type": "stream",
     "text": [
      "    25\tdispense with judgement of reason; but still it is a moral perfection,\n"
     ]
    }
   ],
   "source": [
    "cat -n reason.txt > reason_numbered.txt\n",
    "grep 25 reason_numbered.txt"
   ]
  },
  {
   "cell_type": "code",
   "execution_count": 22,
   "metadata": {},
   "outputs": [
    {
     "name": "stdout",
     "output_type": "stream",
     "text": [
      "107 moral.txt\n"
     ]
    }
   ],
   "source": [
    "grep moral kant-metaphysical-145.txt > moral.txt\n",
    "wc -l moral.txt"
   ]
  },
  {
   "cell_type": "markdown",
   "metadata": {},
   "source": [
    "### Activity 2\n",
    "Name: `ls-upup`, `sample-case`\n",
    "\n",
    "Finish by Monday 9:30am. \n",
    "\n",
    "Like before, make sure you are in your own repo, in directory `Labs`. \n",
    "\n",
    "1. Create a directory called `abc` and change into that directory. Then make a directory called `def` and change into that. Then make directory `ghi` and change into that. When entering the command `ls ../..` what is the output? Enter it into quiz `ls-upup`\n",
    "2. Switch the notebook to Python3. Using a Python loop generate 21 files with the names `samples_nnnn.dat` for numbers nnnn every 50 between 0 and 1000. Make sure the numbers are padded with zeros so that all file names have exactly 16 characters. Write into each file the number `nnnn` including the padding. Also create directory names of the format `run_nnnn.dir`. Move each file name `samples_nnnn.dat` into the corresponding directory. \n",
    "3. Switch back to bash and continue in this notebook. Make a directory called `Samples` and move all `run*dir` directories into the Samples directory. Then paste the output of the following command \n",
    "```shell\n",
    "ls -1 Samples/run_0[237]?0.dir/*dat|tail -n 3|head -n 1\n",
    "``` \n",
    "issued in the directory that contains the `Samples` directory into the quiz `sample-case`. \n",
    "\n",
    "4. Execute the `history` command in such a way that the most recent 30 lines are redirected into the file `history.txt`. (Hint: this command line will include `>` and `|`.) Add this file to your Lab 3.2 commit. Also add the Lab notebook (this notebook!) to the commit. \n"
   ]
  },
  {
   "cell_type": "code",
   "execution_count": 24,
   "metadata": {},
   "outputs": [],
   "source": [
    "Ans1 = \"def\""
   ]
  },
  {
   "cell_type": "code",
   "execution_count": 1,
   "metadata": {},
   "outputs": [],
   "source": [
    "import subprocess\n",
    "for i in range(0,1050,50):\n",
    "    f = open(\"samples_\"+str(i).zfill(4)+\".dat\",'w')\n",
    "    f.write(str(i).zfill(4))\n",
    "    f.close()\n",
    "    subprocess.call(['mkdir',\"run_\"+str(i).zfill(4)+'.dir'])\n",
    "    subprocess.call(['mv',\"samples_\"+str(i).zfill(4)+\".dat\",\"run_\"+str(i).zfill(4)])"
   ]
  },
  {
   "cell_type": "code",
   "execution_count": 1,
   "metadata": {},
   "outputs": [],
   "source": [
    "mkdir Samples"
   ]
  },
  {
   "cell_type": "code",
   "execution_count": 2,
   "metadata": {},
   "outputs": [],
   "source": [
    "mv run*.dir Samples"
   ]
  },
  {
   "cell_type": "code",
   "execution_count": 3,
   "metadata": {},
   "outputs": [
    {
     "name": "stdout",
     "output_type": "stream",
     "text": [
      "ls: cannot access 'Samples/run_0[237]?0.dir/*dat': No such file or directory\n"
     ]
    }
   ],
   "source": [
    "ls -1 Samples/run_0[237]?0.dir/*dat|tail -n 3|head -n 1"
   ]
  },
  {
   "cell_type": "code",
   "execution_count": null,
   "metadata": {},
   "outputs": [],
   "source": []
  }
 ],
 "metadata": {
  "kernelspec": {
   "display_name": "Python 3",
   "language": "python",
   "name": "python3"
  },
  "language_info": {
   "codemirror_mode": {
    "name": "ipython",
    "version": 3
   },
   "file_extension": ".py",
   "mimetype": "text/x-python",
   "name": "python",
   "nbconvert_exporter": "python",
   "pygments_lexer": "ipython3",
   "version": "3.6.9"
  }
 },
 "nbformat": 4,
 "nbformat_minor": 4
}
