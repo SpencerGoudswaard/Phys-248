{
 "cells": [
  {
   "cell_type": "markdown",
   "metadata": {},
   "source": [
    "## Lab 3.1\n",
    "\n",
    "**Before we start:** Introduce Jane\n",
    "\n",
    "**A note before we start:** Today's activities are short. A good fraction of the material covered today is for information and conceptual, and can't be practiced in the laboratory. I ask that you spend some time to carefully review today's class notebook and follow-up on some of the provided links for additional reading. "
   ]
  },
  {
   "cell_type": "markdown",
   "metadata": {},
   "source": [
    "## Activity 0\n",
    "This activity has no quiz. In this activitiy you will follow along step by step to \n",
    "\n",
    "1. Configure your git environment, including setting up ssh keys to interact with GitLab server\n",
    "2. Clone the updated course repository\n",
    "2. Create and clone your own course repository\n",
    "\n",
    "It is most efficient if you follow step by step. TAs will rush around and make sure everybody stays on board.\n",
    "\n",
    "### Configure git environment\n",
    "\n",
    "#### git configuration\n",
    "\n",
    "Two, maybe three commands are required to configure git on the terminal in you JupyterLab session:\n",
    "* `git config --global user.name \"Doe, John\" `  You should enter the same last name, first name combination as was used for creating your gitlab account\n",
    "* `git config --global user.email johndoe@example.com` - again, use the same email address as the one used for your GitLab account\n",
    "* while you are at it you may want to set your default command-line editor (you can change it later), for example if you want to use `emacs` use the command `git config --global core.editor emacs`.\n",
    "\n",
    "This information is stored in a so-called _dot_ file called `.gitconfig` which resides in your home directory. You can inspect the content of this file with the terminal command `cat ~/.gitconfig`\n",
    "\n",
    "#### ssh keys\n",
    "\n",
    "Continue in the terminal of your JupyterLab session.\n",
    "\n",
    "* `mkdir ~/.ssh` (if the response is `mkdir: cannot create directory '.ssh': File exists` then skip this step and move to next\n",
    "* `cd ~/.ssh`  \n",
    "* `ssh-keygen` - followed by three times hitting the return key accepting the defaults, this will create the files `id_rsa` and  `id_rsa.pub`,  `id_rsa.pub` is the public key, it needs to be saved into your GitLab settings in the next step.\n",
    "* In a new browser tab log into the [Abacus GitLab server](http://abacus.phys.uvic.ca) and navigate to the  _User settings_ $\\rightarrow$ _ssh keys_ (click on the top right on your User menu, select Settings, and then on the left select the key with label _SSH keys_, you may have to _toggle the sidebar_). Then issue the command `cat ./id_rsa.pub` to show the content of the public key. Copy and paste into the ssh key field in the GitLab server tab and save there. \n",
    "\n",
    "In the next step we will test if this has worked."
   ]
  },
  {
   "cell_type": "markdown",
   "metadata": {},
   "source": [
    "### Clone the updated course repository\n",
    "\n",
    "On the terminal change to your home directory with the `cd` command (no arguments). Then\n",
    "do\n",
    "```bash\n",
    "git clone ssh://git@abacus.phys.uvic.ca:2233/fherwig/mp248-course-notes.git\n",
    "```\n",
    "Remember that you can copy this command from the _Clone_ menu, see today's class for a picture. If you are requested to enter a password you have not configured the ssh keys correctly in the previous step. Ask a TA for help now. \n",
    "\n",
    "### Create and clone your own course repository\n",
    "\n",
    "Each student needs to create their own course repository on the GitLab server. Going forward you will be committing your labs, your assignments etc into this repository and pushing it to the Abacus GitLab remote of your repository. Proceed as follows:\n",
    "1. Go to the GitLab server in the web browser, and log in if you are not still logged in. \n",
    "2. Create a new project (either there is a big button at the home page of the GitLab session, or have a look for a \"+\" menu at the top to the left of the search field.\n",
    "3. Enter for _Project name_ \"mp248\", leave the _Visibility Level_ to _Private_ and select _Initialize repository with a REAMDE_ and click the _Create Project_ button.\n",
    "4. Dismiss the blue \"The Auto DevOps pipeline has been enabled ...\" information at the top.\n",
    "5. Go to _Settings_ (at the bottom of the left side bar), then to _Members_ and on the _Invite member_ tab search for \"Herwig\" and add \"Falk Herwig\" and **NOT** \"Herwig, Falk\". Give \"Falk Herwig\" the role _Maintainer_. That page should now have at the bottom the following entry for \"Falk Herwig\" in your _Existing members and groups_ section. \n",
    "![members-and-groups](./Figs/Git-your-repo-members.png)\n",
    "6. Clone your own mp248 repo into your JupyterLab home directory. Change directory into your repository directory. \n",
    "7. Create a new directory called `Labs`. Copy this notebook `3.1_Lab.ipynb` from its location in `~/mp248-course-notes.week_1and2` into this `Labs` directory (use `pwd` to make sure that you are *in* the `mp248` directory: \n",
    "```bash\n",
    "cp ~/mp248-course-notes.week_1and2/3.1_Lab.ipynb Labs\n",
    "```\n",
    "8. Add and commit the `Labs` directory: \n",
    "```bash\n",
    "git add Labs\n",
    "git commit -m 'adding Labs'\n",
    "``` \n",
    "9. Push this latest commit to the remote: `git push`\n",
    "10. Check on the GitLab page if the new files appear there.\n",
    "\n",
    "Steps 7 to 10 are what you will have to do to add/commit and push your Assignment 1. You will have to create a folder called `Assignments` and add/commit/push the completed Assignment 1 notebook there. \n"
   ]
  },
  {
   "cell_type": "markdown",
   "metadata": {},
   "source": [
    "### Activity 1\n",
    "Name: `git-zip`\n",
    "\n",
    "**Complete this activity before the end of the lab by entering the answer into the Coursespaces assignment**\n",
    "\n",
    "1. Clone the GitLab repository Lab3.1 from the Abacus GitLab server into your home directory. If you have followed the setup steps in _Activity 0_ you do not need to enter a password to clone the repo. If you do, ask a TA to help you fix this situation.\n",
    "2. In the cloned repository you will find a zipped file. Unzip it. In the file is a sequence of digits. Add the digits and enter the result into Lab3.1_A1 quiz `git-zip`.\n",
    "\n",
    "\n",
    "**CourseSpace assignment Lab3.1_A1:**\n"
   ]
  },
  {
   "cell_type": "code",
   "execution_count": 2,
   "metadata": {},
   "outputs": [
    {
     "data": {
      "text/plain": [
       "42"
      ]
     },
     "execution_count": 2,
     "metadata": {},
     "output_type": "execute_result"
    }
   ],
   "source": [
    "digits = \"248248248\"\n",
    "ans = 2+4+8\n",
    "ans = ans*3\n",
    "ans"
   ]
  },
  {
   "cell_type": "markdown",
   "metadata": {},
   "source": [
    "### Activity 2\n",
    "Name: `random-bytes`, `byte-per-character`\n",
    "\n",
    "Because Thursday 9:30am is the Assignment 1 deadline the Lab3.2A2 quiz will be open until Friday, 9:30am. \n",
    "\n",
    "1. Write a Python code cell that creates 1000 random numbers and write them into a file called `random.dat`. Write one random number in each line, but number them and write each line in the following format: \n",
    "```\n",
    "__34_0.4504723\n",
    "```\n",
    "where `_` means a space. This can be done with a `for` loop using the `enumerate` function, see `1.2_Python_I.ipynb`. \n",
    "2. Look into the `man` page of the `du` command and determine the command line option that will display the size of the file `random.dat` in bytes. Enter the number of bytes into the quiz question `random-bytes`.\n",
    "3. Based on the content of the file and the file size in bytes, how many bytes are used to store each character? Enter this number into quiz question `byte-per-character`. In a Markdown cell below explain your reasoning.\n",
    "4. Add the file `random.dat` and this notebook to the `Labs` dir of your `mp248` repository, commit and push to remote.\n"
   ]
  },
  {
   "cell_type": "code",
   "execution_count": 38,
   "metadata": {},
   "outputs": [
    {
     "name": "stdout",
     "output_type": "stream",
     "text": [
      "Populating the interactive namespace from numpy and matplotlib\n"
     ]
    }
   ],
   "source": [
    "%pylab ipympl\n",
    "f = open(\"random.dat\", mode = 'w')\n",
    "R = random.rand(1000)\n",
    "for i,elem in enumerate(R):\n",
    "    f.write(\"{i:4d} {elem:.7f}\\n\".format(i = i, elem = elem))\n",
    "f.close()"
   ]
  },
  {
   "cell_type": "code",
   "execution_count": 42,
   "metadata": {},
   "outputs": [
    {
     "name": "stdout",
     "output_type": "stream",
     "text": [
      "duser@56b5e9a34d98:~/mp248/Labs$ du -b random.dat \n",
      " 15000   random.dat\n"
     ]
    }
   ],
   "source": [
    "part2 = \"duser@56b5e9a34d98:~/mp248/Labs$ du -b random.dat \\n 15000   random.dat\"\n",
    "print(part2)"
   ]
  },
  {
   "cell_type": "code",
   "execution_count": 44,
   "metadata": {},
   "outputs": [
    {
     "name": "stdout",
     "output_type": "stream",
     "text": [
      "1.0\n"
     ]
    }
   ],
   "source": [
    "part3 = 15000/(1000*15)\n",
    "print(part3)"
   ]
  },
  {
   "cell_type": "code",
   "execution_count": null,
   "metadata": {},
   "outputs": [],
   "source": []
  }
 ],
 "metadata": {
  "kernelspec": {
   "display_name": "Python 3",
   "language": "python",
   "name": "python3"
  },
  "language_info": {
   "codemirror_mode": {
    "name": "ipython",
    "version": 3
   },
   "file_extension": ".py",
   "mimetype": "text/x-python",
   "name": "python",
   "nbconvert_exporter": "python",
   "pygments_lexer": "ipython3",
   "version": "3.6.9"
  }
 },
 "nbformat": 4,
 "nbformat_minor": 4
}
